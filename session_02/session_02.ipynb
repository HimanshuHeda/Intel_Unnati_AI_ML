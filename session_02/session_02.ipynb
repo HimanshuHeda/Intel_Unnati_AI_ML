{
 "cells": [
  {
   "cell_type": "code",
   "execution_count": 8,
   "metadata": {},
   "outputs": [
    {
     "name": "stdout",
     "output_type": "stream",
     "text": [
      "-95.3698\n"
     ]
    }
   ],
   "source": [
    "# 1. You are developing a program to store geographical coordinates (latitude and longitude)\n",
    "# of various cities. The coordinates should be immutable so that they don'39;t get accidentally\n",
    "# changed.\n",
    "# Question: How would you use tuples to store the coordinates for five cities? Demonstrate how\n",
    "# you would access the longitude of the third city in the list.\n",
    "\n",
    "\n",
    "cities = [\n",
    "    (40.7128, -74.0060),  # New York\n",
    "    (34.0522, -118.2437),  # Los Angeles\n",
    "    (37.7749, -122.4194),  # San Francisco\n",
    "    (41.8781, -87.6298),  # Chicago\n",
    "    (29.7604, -95.3698)   # Houston\n",
    "]\n",
    "\n",
    "third_city_longitude = cities[4][1]\n",
    "print(third_city_longitude)  \n",
    "\n"
   ]
  },
  {
   "cell_type": "code",
   "execution_count": 2,
   "metadata": {},
   "outputs": [
    {
     "name": "stdout",
     "output_type": "stream",
     "text": [
      "Employee ID: 101\n",
      "Name: John Doe\n",
      "Department: Engineering\n"
     ]
    }
   ],
   "source": [
    "# 2. You are working with employee data in a system where each employee has an ID, name,\n",
    "# and department. You have a tuple of employee information (101, '39;John Doe'39;,\n",
    "# '39;Engineering'39;).\n",
    "# Question: How would you unpack the tuple into separate variables for the ID, name, and\n",
    "# department? Demonstrate this in Python.\n",
    "\n",
    "\n",
    "# Define the tuple of employee information\n",
    "employee_info = (101, 'John Doe', 'Engineering')\n",
    "\n",
    "# Unpack the tuple into separate variables\n",
    "employee_id, name, department = employee_info\n",
    "\n",
    "# Print the values of the separate variables\n",
    "print(\"Employee ID:\", employee_id)\n",
    "print(\"Name:\", name)\n",
    "print(\"Department:\", department)"
   ]
  },
  {
   "cell_type": "code",
   "execution_count": 5,
   "metadata": {},
   "outputs": [
    {
     "name": "stdout",
     "output_type": "stream",
     "text": [
      "John Doe's grade in Science is: 90\n"
     ]
    }
   ],
   "source": [
    "# 3. You are working with a dataset where each record contains information about a student’s\n",
    "# grades across multiple subjects. For example, the dataset looks like this:\n",
    "# ('39;John Doe'39;, ('39;Math'39;, 85), ('39;Science'39;, 90), ('39;English'39;, 78)).\n",
    "# Question: How would you access John Doe’s grade in Science using Python indexing?\n",
    "\n",
    "\n",
    "def get_grade(student_record, subject):\n",
    "    # Extract the subject-grade pairs\n",
    "    subject_grades = student_record[1:]\n",
    "    \n",
    "    # Iterate over the subject-grade pairs to find the index of the subject\n",
    "    for i, (sub, grade) in enumerate(subject_grades):\n",
    "        if sub == subject:\n",
    "            # Return the grade if the subject is found\n",
    "            return grade\n",
    "    \n",
    "    # Return None if the subject is not found\n",
    "    return None\n",
    "\n",
    "student_record = ('John Doe', ('Math', 85), ('Science', 90), ('English', 78))\n",
    "subject = 'Science'\n",
    "grade = get_grade(student_record, subject)\n",
    "\n",
    "print(f\"John Doe's grade in {subject} is: {grade}\")"
   ]
  },
  {
   "cell_type": "code",
   "execution_count": 6,
   "metadata": {},
   "outputs": [
    {
     "name": "stdout",
     "output_type": "stream",
     "text": [
      "The team with the highest score is Team A with a score of 25\n"
     ]
    }
   ],
   "source": [
    "# 4. You are tasked with keeping track of sports team scores in a tournament. Each team has a\n",
    "# name and a score.\n",
    "# Task: Create a list of tuples to store the team names and their corresponding scores. Write a\n",
    "# Python function to:\n",
    "#  Add a new team&#39;s score.\n",
    "#  Update the score of an existing team.\n",
    "#  Find and display the team with the highest score.\n",
    "\n",
    "\n",
    "# Initialize the list of teams and scores\n",
    "teams = []\n",
    "\n",
    "def add_team(name, score):\n",
    "    \"\"\"Add a new team's score\"\"\"\n",
    "    teams.append((name, score))\n",
    "\n",
    "def update_score(name, new_score):\n",
    "    \"\"\"Update the score of an existing team\"\"\"\n",
    "    for i, (team_name, _) in enumerate(teams):\n",
    "        if team_name == name:\n",
    "            teams[i] = (name, new_score)\n",
    "            break\n",
    "\n",
    "def find_highest_score():\n",
    "    \"\"\"Find and display the team with the highest score\"\"\"\n",
    "    highest_score_team = max(teams, key=lambda x: x[1])\n",
    "    print(f\"The team with the highest score is {highest_score_team[0]} with a score of {highest_score_team[1]}\")\n",
    "\n",
    "# Example usage:\n",
    "add_team(\"Team A\", 10)\n",
    "add_team(\"Team B\", 20)\n",
    "add_team(\"Team C\", 15)\n",
    "\n",
    "update_score(\"Team A\", 25)\n",
    "\n",
    "find_highest_score()  # Output: The team with the highest score is Team A with a score of 25"
   ]
  },
  {
   "cell_type": "code",
   "execution_count": 7,
   "metadata": {},
   "outputs": [
    {
     "name": "stdout",
     "output_type": "stream",
     "text": [
      "Flights to New York:\n",
      "Flight UA101 departs at 08:00\n",
      "Flight UA103 departs at 10:00\n"
     ]
    }
   ],
   "source": [
    "# 5. You are developing a flight information system where each flight has a flight number,\n",
    "# destination, and departure time.\n",
    "# Task: Write a Python function that:\n",
    "#  Adds a new flight to the list.\n",
    "#  Sorts the flights by departure time.\n",
    "#  Finds all flights headed to a particular destination\n",
    "\n",
    "\n",
    "\n",
    "class Flight:\n",
    "    def __init__(self, flight_number, destination, departure_time):\n",
    "        self.flight_number = flight_number\n",
    "        self.destination = destination\n",
    "        self.departure_time = departure_time\n",
    "\n",
    "class FlightInformationSystem:\n",
    "    def __init__(self):\n",
    "        self.flights = []\n",
    "\n",
    "    def add_flight(self, flight_number, destination, departure_time):\n",
    "        new_flight = Flight(flight_number, destination, departure_time)\n",
    "        self.flights.append(new_flight)\n",
    "        self.flights.sort(key=lambda x: x.departure_time)\n",
    "\n",
    "    def find_flights_by_destination(self, destination):\n",
    "        return [flight for flight in self.flights if flight.destination == destination]\n",
    "\n",
    "# Example usage:\n",
    "flight_system = FlightInformationSystem()\n",
    "flight_system.add_flight(\"UA101\", \"New York\", \"08:00\")\n",
    "flight_system.add_flight(\"UA102\", \"Los Angeles\", \"09:00\")\n",
    "flight_system.add_flight(\"UA103\", \"New York\", \"10:00\")\n",
    "\n",
    "print(\"Flights to New York:\")\n",
    "for flight in flight_system.find_flights_by_destination(\"New York\"):\n",
    "    print(f\"Flight {flight.flight_number} departs at {flight.departure_time}\")"
   ]
  },
  {
   "cell_type": "code",
   "execution_count": 10,
   "metadata": {},
   "outputs": [
    {
     "name": "stdout",
     "output_type": "stream",
     "text": [
      "a3b2c4d1e1\n",
      "abcd\n",
      "a2b1c5a3\n"
     ]
    }
   ],
   "source": [
    "# 6. Write a Python function that takes a string and returns a compressed version of the string.\n",
    "# The compression should represent consecutive repeated characters as the character\n",
    "# followed by the number of repetitions. If the compressed string is not shorter than the\n",
    "# original, return the original string instead.\n",
    "\n",
    "# Input:\n",
    "#  A string s containing only lowercase letters (e.g., \"aaabbccccde\").\n",
    "# Output:\n",
    "#  The compressed version of the string if it&#39;s shorter, otherwise the original string.\n",
    "# Examples:\n",
    "#  Input: \"aaabbccccde\"\n",
    "# Output: \"a3b2c4de\"\n",
    "#  Input: \"abcd\"\n",
    "# Output: \"abcd\"\n",
    "#  Input: \"aabcccccaaa\"\n",
    "# Output: \"a2bc5a3\"\n",
    "\n",
    "\n",
    "def compress_string(s):\n",
    "    \"\"\"\n",
    "    Compress a string by representing consecutive repeated characters as the character\n",
    "    followed by the number of repetitions. If the compressed string is not shorter than\n",
    "    the original, return the original string instead.\n",
    "\n",
    "    Args:\n",
    "        s (str): The input string containing only lowercase letters.\n",
    "\n",
    "    Returns:\n",
    "        str: The compressed version of the string if it's shorter, otherwise the original string.\n",
    "    \"\"\"\n",
    "    if not s:\n",
    "        return s  # Return the original string if it's empty\n",
    "\n",
    "    compressed = []\n",
    "    count = 1  # Start with a count of 1 for the first character\n",
    "    \n",
    "    # Iterate over the string starting from the second character\n",
    "    for i in range(1, len(s)):\n",
    "        if s[i] == s[i - 1]:\n",
    "            count += 1  # Increment count for consecutive characters\n",
    "        else:\n",
    "            # Append the previous character and its count to the compressed list\n",
    "            compressed.append(s[i - 1] + str(count))\n",
    "            count = 1  # Reset count for the new character\n",
    "\n",
    "    # Append the last character and its count\n",
    "    compressed.append(s[-1] + str(count))  \n",
    "\n",
    "    compressed_str = \"\".join(compressed)  # Join the list into a string\n",
    "    \n",
    "    # Return compressed string if it's shorter; otherwise, return the original\n",
    "    return compressed_str if len(compressed_str) < len(s) else s\n",
    "\n",
    "# Example usages\n",
    "print(compress_string(\"aaabbccccde\"))  # Output: \"a3b2c4de\"\n",
    "print(compress_string(\"abcd\"))          # Output: \"abcd\"\n",
    "print(compress_string(\"aabcccccaaa\"))   # Output: \"a2bc5a3\"\n"
   ]
  }
 ],
 "metadata": {
  "kernelspec": {
   "display_name": "Python 3",
   "language": "python",
   "name": "python3"
  },
  "language_info": {
   "codemirror_mode": {
    "name": "ipython",
    "version": 3
   },
   "file_extension": ".py",
   "mimetype": "text/x-python",
   "name": "python",
   "nbconvert_exporter": "python",
   "pygments_lexer": "ipython3",
   "version": "3.11.3"
  }
 },
 "nbformat": 4,
 "nbformat_minor": 2
}
